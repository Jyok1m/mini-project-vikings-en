{
 "cells": [
  {
   "cell_type": "code",
   "execution_count": 1,
   "metadata": {},
   "outputs": [],
   "source": [
    "import random"
   ]
  },
  {
   "cell_type": "code",
   "execution_count": 2,
   "metadata": {},
   "outputs": [],
   "source": [
    "# Soldier\n",
    "class Soldier:\n",
    "    def __init__(self, health, strength):\n",
    "        self.health = health\n",
    "        self.strength = strength\n",
    "    \n",
    "    def attack(self):\n",
    "        return self.strength\n",
    "\n",
    "    def receiveDamage(self, damage):\n",
    "        self.health -= damage"
   ]
  },
  {
   "cell_type": "code",
   "execution_count": 3,
   "metadata": {},
   "outputs": [],
   "source": [
    "# Viking\n",
    "class Viking(Soldier):\n",
    "    def __init__(self, name, health, strength):\n",
    "        super().__init__(health, strength)\n",
    "        self.name = name\n",
    "        self.health = health\n",
    "        self.strength = strength\n",
    "\n",
    "    def battleCry(self):\n",
    "        return f\"Odin Owns You All!\"\n",
    "\n",
    "    def receiveDamage(self, damage):\n",
    "        self.health -= damage\n",
    "        if self.health > 0:\n",
    "            return f\"{self.name} has received {damage} points of damage\"\n",
    "        else:\n",
    "            return f\"{self.name} has died in act of combat\""
   ]
  },
  {
   "cell_type": "code",
   "execution_count": 5,
   "metadata": {},
   "outputs": [],
   "source": [
    "viking_1 = Viking(\"John\", 10, 2)"
   ]
  },
  {
   "cell_type": "code",
   "execution_count": 6,
   "metadata": {},
   "outputs": [
    {
     "data": {
      "text/plain": [
       "'Odin Owns You All!'"
      ]
     },
     "execution_count": 6,
     "metadata": {},
     "output_type": "execute_result"
    }
   ],
   "source": [
    "viking_1.battleCry()"
   ]
  },
  {
   "cell_type": "code",
   "execution_count": 7,
   "metadata": {},
   "outputs": [],
   "source": [
    "viking_2 = Viking(\"Jane\", 10, 1)"
   ]
  },
  {
   "cell_type": "code",
   "execution_count": 9,
   "metadata": {},
   "outputs": [
    {
     "data": {
      "text/plain": [
       "'Odin Owns You All!'"
      ]
     },
     "execution_count": 9,
     "metadata": {},
     "output_type": "execute_result"
    }
   ],
   "source": [
    "viking_2.battleCry()"
   ]
  },
  {
   "cell_type": "code",
   "execution_count": 4,
   "metadata": {},
   "outputs": [],
   "source": [
    "# Saxon\n",
    "class Saxon(Soldier):\n",
    "    def __init__(self, health, strength):\n",
    "        super().__init__(health, strength)\n",
    "\n",
    "    def receiveDamage(self, damage):\n",
    "        self.health -= damage\n",
    "        if self.health > 0:\n",
    "            return f\"A Saxon has has received {damage} points of damage\"\n",
    "        else:\n",
    "            return f\"A Saxon has died in combat\""
   ]
  },
  {
   "cell_type": "code",
   "execution_count": 13,
   "metadata": {},
   "outputs": [],
   "source": [
    "class War():\n",
    "    def __init__(self):\n",
    "        self.vikingArmy = []\n",
    "        self.saxonArmy = []\n",
    "\n",
    "    def addViking(self, viking):\n",
    "        self.vikingArmy.append(viking)\n",
    "    \n",
    "    def addSaxon(self, saxon):\n",
    "        self.saxonArmy.append(saxon)\n",
    "    \n",
    "    def vikingAttack(self):\n",
    "        rand_saxon = self.saxonArmy[random.randint(0, len(self.saxonArmy) - 1)]\n",
    "        rand_viking = self.vikingArmy[random.randint(0, len(self.vikingArmy) - 1)]\n",
    "        rand_saxon.receiveDamage(rand_viking.strength)\n",
    "        \n",
    "    \n",
    "    # def saxonAttack(self):\n",
    "    #     # your code here\n",
    "\n",
    "    # def showStatus(self):\n",
    "    #     # your code here\n",
    "    # pass"
   ]
  },
  {
   "cell_type": "code",
   "execution_count": 15,
   "metadata": {},
   "outputs": [],
   "source": [
    "# Create new war\n",
    "great_war = War()"
   ]
  },
  {
   "cell_type": "code",
   "execution_count": 6,
   "metadata": {},
   "outputs": [],
   "source": [
    "# Create 10 vikings\n",
    "viking_names = [\"Ragnar\", \"Bjorn\", \"Sigurd\", \"Erik\", \"Leif\", \"Thorstein\", \"Harald\", \"Ivar\", \"Hilda\", \"Astrid\"]"
   ]
  },
  {
   "cell_type": "code",
   "execution_count": 16,
   "metadata": {},
   "outputs": [],
   "source": [
    "for name in viking_names:\n",
    "  new_viking = Viking(name, random.randint(10, 20), random.randint(2, 5))\n",
    "  great_war.addViking(new_viking)"
   ]
  },
  {
   "cell_type": "code",
   "execution_count": 19,
   "metadata": {},
   "outputs": [],
   "source": [
    "for name in range(10):\n",
    "  new_saxon = Saxon(random.randint(10, 20), random.randint(2, 5))\n",
    "  great_war.addSaxon(new_saxon)"
   ]
  },
  {
   "cell_type": "code",
   "execution_count": null,
   "metadata": {},
   "outputs": [],
   "source": []
  }
 ],
 "metadata": {
  "kernelspec": {
   "display_name": "Python 3",
   "language": "python",
   "name": "python3"
  },
  "language_info": {
   "codemirror_mode": {
    "name": "ipython",
    "version": 3
   },
   "file_extension": ".py",
   "mimetype": "text/x-python",
   "name": "python",
   "nbconvert_exporter": "python",
   "pygments_lexer": "ipython3",
   "version": "3.9.6"
  }
 },
 "nbformat": 4,
 "nbformat_minor": 2
}
